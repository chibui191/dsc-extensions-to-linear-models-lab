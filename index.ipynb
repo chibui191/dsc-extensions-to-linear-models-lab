{
 "cells": [
  {
   "cell_type": "markdown",
   "metadata": {},
   "source": [
    "# Extensions to Linear Models - Lab"
   ]
  },
  {
   "cell_type": "markdown",
   "metadata": {},
   "source": [
    "## Introduction\n",
    "\n",
    "In this lab, you'll practice many concepts you have learned so far, from adding interactions and polynomials to your model to AIC and BIC!"
   ]
  },
  {
   "cell_type": "markdown",
   "metadata": {},
   "source": [
    "## Summary\n",
    "\n",
    "You will be able to:\n",
    "- Build a linear regression model with interactions and polynomial features \n",
    "- Use AIC and BIC to select the best value for the regularization parameter \n"
   ]
  },
  {
   "cell_type": "markdown",
   "metadata": {},
   "source": [
    "## Let's get started!"
   ]
  },
  {
   "cell_type": "markdown",
   "metadata": {},
   "source": [
    "Import all the necessary packages."
   ]
  },
  {
   "cell_type": "code",
   "execution_count": 1,
   "metadata": {},
   "outputs": [],
   "source": [
    "import pandas as pd\n",
    "import numpy as np\n",
    "import matplotlib.pyplot as plt\n",
    "import warnings\n",
    "warnings.filterwarnings('ignore')\n",
    "from itertools import combinations\n",
    "\n",
    "from sklearn.linear_model import LinearRegression\n",
    "from sklearn.model_selection import cross_val_score\n",
    "from sklearn.model_selection import KFold\n",
    "from sklearn.preprocessing import scale\n",
    "from sklearn.preprocessing import PolynomialFeatures"
   ]
  },
  {
   "cell_type": "markdown",
   "metadata": {},
   "source": [
    "Load the data."
   ]
  },
  {
   "cell_type": "code",
   "execution_count": 2,
   "metadata": {},
   "outputs": [],
   "source": [
    "df = pd.read_csv(\"ames.csv\")"
   ]
  },
  {
   "cell_type": "code",
   "execution_count": 3,
   "metadata": {},
   "outputs": [],
   "source": [
    "df = df[['LotArea', 'OverallQual', 'OverallCond', 'TotalBsmtSF',\n",
    "         '1stFlrSF', '2ndFlrSF', 'GrLivArea', 'TotRmsAbvGrd',\n",
    "         'GarageArea', 'Fireplaces', 'SalePrice']]"
   ]
  },
  {
   "cell_type": "code",
   "execution_count": 4,
   "metadata": {},
   "outputs": [
    {
     "data": {
      "text/html": [
       "<div>\n",
       "<style scoped>\n",
       "    .dataframe tbody tr th:only-of-type {\n",
       "        vertical-align: middle;\n",
       "    }\n",
       "\n",
       "    .dataframe tbody tr th {\n",
       "        vertical-align: top;\n",
       "    }\n",
       "\n",
       "    .dataframe thead th {\n",
       "        text-align: right;\n",
       "    }\n",
       "</style>\n",
       "<table border=\"1\" class=\"dataframe\">\n",
       "  <thead>\n",
       "    <tr style=\"text-align: right;\">\n",
       "      <th></th>\n",
       "      <th>LotArea</th>\n",
       "      <th>OverallQual</th>\n",
       "      <th>OverallCond</th>\n",
       "      <th>TotalBsmtSF</th>\n",
       "      <th>1stFlrSF</th>\n",
       "      <th>2ndFlrSF</th>\n",
       "      <th>GrLivArea</th>\n",
       "      <th>TotRmsAbvGrd</th>\n",
       "      <th>GarageArea</th>\n",
       "      <th>Fireplaces</th>\n",
       "      <th>SalePrice</th>\n",
       "    </tr>\n",
       "  </thead>\n",
       "  <tbody>\n",
       "    <tr>\n",
       "      <th>0</th>\n",
       "      <td>8450</td>\n",
       "      <td>7</td>\n",
       "      <td>5</td>\n",
       "      <td>856</td>\n",
       "      <td>856</td>\n",
       "      <td>854</td>\n",
       "      <td>1710</td>\n",
       "      <td>8</td>\n",
       "      <td>548</td>\n",
       "      <td>0</td>\n",
       "      <td>208500</td>\n",
       "    </tr>\n",
       "    <tr>\n",
       "      <th>1</th>\n",
       "      <td>9600</td>\n",
       "      <td>6</td>\n",
       "      <td>8</td>\n",
       "      <td>1262</td>\n",
       "      <td>1262</td>\n",
       "      <td>0</td>\n",
       "      <td>1262</td>\n",
       "      <td>6</td>\n",
       "      <td>460</td>\n",
       "      <td>1</td>\n",
       "      <td>181500</td>\n",
       "    </tr>\n",
       "    <tr>\n",
       "      <th>2</th>\n",
       "      <td>11250</td>\n",
       "      <td>7</td>\n",
       "      <td>5</td>\n",
       "      <td>920</td>\n",
       "      <td>920</td>\n",
       "      <td>866</td>\n",
       "      <td>1786</td>\n",
       "      <td>6</td>\n",
       "      <td>608</td>\n",
       "      <td>1</td>\n",
       "      <td>223500</td>\n",
       "    </tr>\n",
       "    <tr>\n",
       "      <th>3</th>\n",
       "      <td>9550</td>\n",
       "      <td>7</td>\n",
       "      <td>5</td>\n",
       "      <td>756</td>\n",
       "      <td>961</td>\n",
       "      <td>756</td>\n",
       "      <td>1717</td>\n",
       "      <td>7</td>\n",
       "      <td>642</td>\n",
       "      <td>1</td>\n",
       "      <td>140000</td>\n",
       "    </tr>\n",
       "    <tr>\n",
       "      <th>4</th>\n",
       "      <td>14260</td>\n",
       "      <td>8</td>\n",
       "      <td>5</td>\n",
       "      <td>1145</td>\n",
       "      <td>1145</td>\n",
       "      <td>1053</td>\n",
       "      <td>2198</td>\n",
       "      <td>9</td>\n",
       "      <td>836</td>\n",
       "      <td>1</td>\n",
       "      <td>250000</td>\n",
       "    </tr>\n",
       "  </tbody>\n",
       "</table>\n",
       "</div>"
      ],
      "text/plain": [
       "   LotArea  OverallQual  OverallCond  TotalBsmtSF  1stFlrSF  2ndFlrSF  \\\n",
       "0     8450            7            5          856       856       854   \n",
       "1     9600            6            8         1262      1262         0   \n",
       "2    11250            7            5          920       920       866   \n",
       "3     9550            7            5          756       961       756   \n",
       "4    14260            8            5         1145      1145      1053   \n",
       "\n",
       "   GrLivArea  TotRmsAbvGrd  GarageArea  Fireplaces  SalePrice  \n",
       "0       1710             8         548           0     208500  \n",
       "1       1262             6         460           1     181500  \n",
       "2       1786             6         608           1     223500  \n",
       "3       1717             7         642           1     140000  \n",
       "4       2198             9         836           1     250000  "
      ]
     },
     "execution_count": 4,
     "metadata": {},
     "output_type": "execute_result"
    }
   ],
   "source": [
    "df.head()"
   ]
  },
  {
   "cell_type": "markdown",
   "metadata": {},
   "source": [
    "## Look at a baseline housing data model"
   ]
  },
  {
   "cell_type": "markdown",
   "metadata": {},
   "source": [
    "Above, we imported the Ames housing data and grabbed a subset of the data to use in this analysis.\n",
    "\n",
    "Next steps:\n",
    "\n",
    "- Split the data into target (`y`) and predictors (`X`) -- ensure these both are DataFrames \n",
    "- Scale all the predictors using `scale`. Convert these scaled features into a DataFrame \n",
    "- Build at a baseline model using *scaled variables* as predictors. Use 5-fold cross-validation (set `random_state` to 1) and use the $R^2$ score to evaluate the model "
   ]
  },
  {
   "cell_type": "code",
   "execution_count": 5,
   "metadata": {},
   "outputs": [],
   "source": [
    "# Your code here\n",
    "y = df.SalePrice\n",
    "X = df.drop('SalePrice', axis=1)"
   ]
  },
  {
   "cell_type": "code",
   "execution_count": 6,
   "metadata": {},
   "outputs": [],
   "source": [
    "# scale predictors using scale\n",
    "X_scaled = pd.DataFrame(scale(X), columns=X.columns)"
   ]
  },
  {
   "cell_type": "code",
   "execution_count": 7,
   "metadata": {},
   "outputs": [],
   "source": [
    "kf = KFold(n_splits=5, random_state=1)\n",
    "\n",
    "train_r2 = []\n",
    "val_r2 = []\n",
    "\n",
    "for train_idx, val_idx in kf.split(X_scaled, y):\n",
    "    X_train_fold, y_train_fold = X_scaled.iloc[train_idx], y.iloc[train_idx]\n",
    "    X_val_fold, y_val_fold = X_scaled.iloc[val_idx], y.iloc[val_idx]\n",
    "    \n",
    "    # fit the model\n",
    "    lr = LinearRegression()\n",
    "    lr.fit(X_train_fold, y_train_fold)\n",
    "    \n",
    "    # append R2 scores to lists\n",
    "    train_r2.append(lr.score(X_train_fold, y_train_fold))\n",
    "    val_r2.append(lr.score(X_val_fold, y_val_fold))"
   ]
  },
  {
   "cell_type": "code",
   "execution_count": 8,
   "metadata": {},
   "outputs": [
    {
     "data": {
      "text/plain": [
       "0.7691524993051603"
      ]
     },
     "execution_count": 8,
     "metadata": {},
     "output_type": "execute_result"
    }
   ],
   "source": [
    "# Mean Train R2\n",
    "np.mean(train_r2)"
   ]
  },
  {
   "cell_type": "code",
   "execution_count": 9,
   "metadata": {
    "scrolled": true
   },
   "outputs": [
    {
     "data": {
      "text/plain": [
       "0.7569110039304656"
      ]
     },
     "execution_count": 9,
     "metadata": {},
     "output_type": "execute_result"
    }
   ],
   "source": [
    "# Mean Validation R2\n",
    "np.mean(val_r2)"
   ]
  },
  {
   "cell_type": "code",
   "execution_count": 10,
   "metadata": {},
   "outputs": [
    {
     "name": "stdout",
     "output_type": "stream",
     "text": [
      "[0.81590682 0.78658346 0.77744573 0.77448228 0.63013673]\n"
     ]
    }
   ],
   "source": [
    "# OR, we can also do it like this using cross_val_score\n",
    "# which will return an array of validation R2\n",
    "baseline = LinearRegression()\n",
    "baseline.fit(X_scaled, y)\n",
    "\n",
    "print(cross_val_score(baseline, X_scaled, y, cv=5))"
   ]
  },
  {
   "cell_type": "code",
   "execution_count": 11,
   "metadata": {},
   "outputs": [],
   "source": [
    "baseline_score = np.mean(cross_val_score(baseline, X_scaled, y, cv=5))"
   ]
  },
  {
   "cell_type": "markdown",
   "metadata": {},
   "source": [
    "## Include interactions\n",
    "\n",
    "Look at all the possible combinations of variables for interactions by adding interactions one by one to the baseline model. Next, evaluate that model using 5-fold cross-validation and store the $R^2$ to compare it with the baseline model.\n",
    "\n",
    "Print the 7 most important interactions."
   ]
  },
  {
   "cell_type": "code",
   "execution_count": 12,
   "metadata": {},
   "outputs": [],
   "source": [
    "from itertools import combinations\n",
    "\n",
    "pairs = list(combinations(X.columns, 2))\n",
    "\n",
    "val_r2_dict = {}\n",
    "X_interact = X_scaled.copy()\n",
    "\n",
    "for f1, f2 in pairs:\n",
    "    X_interact['interaction'] = X_scaled[f1] * X_scaled[f2]\n",
    "    \n",
    "    lr = LinearRegression()\n",
    "    lr.fit(X_interact, y)\n",
    "    \n",
    "    score = np.mean(cross_val_score(lr, X_interact, y, cv=5))\n",
    "    # Only append scores that are higher than baseline_score to dictionary\n",
    "    if score > baseline_score:\n",
    "        val_r2_dict[f'{f1}-{f2}'] = score"
   ]
  },
  {
   "cell_type": "code",
   "execution_count": 13,
   "metadata": {},
   "outputs": [
    {
     "name": "stdout",
     "output_type": "stream",
     "text": [
      "Interaction\t\t\tScore\n",
      "\n",
      "OverallQual-TotRmsAbvGrd \t0.775191378432255\n",
      "OverallQual-GarageArea   \t0.7726987805453559\n",
      "LotArea-1stFlrSF         \t0.7666267582484567\n",
      "LotArea-TotalBsmtSF      \t0.76619804450317\n",
      "OverallQual-Fireplaces   \t0.7643358376077852\n",
      "OverallQual-2ndFlrSF     \t0.762195326826904\n",
      "2ndFlrSF-GarageArea      \t0.7599674685318546\n"
     ]
    }
   ],
   "source": [
    "# Sort val_r2_dict by values\n",
    "sorted_val_r2 = sorted(val_r2_dict.items(), key=lambda i: i[1], reverse=True)\n",
    "top_7_interactions = sorted_val_r2[:7]\n",
    "print('Interaction\\t\\t\\tScore')\n",
    "print()\n",
    "for pair, score in top_7_interactions:\n",
    "    print(f'{pair:25}\\t{score}')"
   ]
  },
  {
   "cell_type": "markdown",
   "metadata": {},
   "source": [
    "Write code to include the 7 most important interactions in your data set by adding 7 columns. Name the columns \"var1_var2\", where var1 and var2 are the two variables in the interaction."
   ]
  },
  {
   "cell_type": "code",
   "execution_count": 14,
   "metadata": {},
   "outputs": [
    {
     "data": {
      "text/html": [
       "<div>\n",
       "<style scoped>\n",
       "    .dataframe tbody tr th:only-of-type {\n",
       "        vertical-align: middle;\n",
       "    }\n",
       "\n",
       "    .dataframe tbody tr th {\n",
       "        vertical-align: top;\n",
       "    }\n",
       "\n",
       "    .dataframe thead th {\n",
       "        text-align: right;\n",
       "    }\n",
       "</style>\n",
       "<table border=\"1\" class=\"dataframe\">\n",
       "  <thead>\n",
       "    <tr style=\"text-align: right;\">\n",
       "      <th></th>\n",
       "      <th>LotArea</th>\n",
       "      <th>OverallQual</th>\n",
       "      <th>OverallCond</th>\n",
       "      <th>TotalBsmtSF</th>\n",
       "      <th>1stFlrSF</th>\n",
       "      <th>2ndFlrSF</th>\n",
       "      <th>GrLivArea</th>\n",
       "      <th>TotRmsAbvGrd</th>\n",
       "      <th>GarageArea</th>\n",
       "      <th>Fireplaces</th>\n",
       "      <th>OverallQual-TotRmsAbvGrd</th>\n",
       "      <th>OverallQual-GarageArea</th>\n",
       "      <th>LotArea-1stFlrSF</th>\n",
       "      <th>LotArea-TotalBsmtSF</th>\n",
       "      <th>OverallQual-Fireplaces</th>\n",
       "      <th>OverallQual-2ndFlrSF</th>\n",
       "      <th>2ndFlrSF-GarageArea</th>\n",
       "    </tr>\n",
       "  </thead>\n",
       "  <tbody>\n",
       "    <tr>\n",
       "      <th>0</th>\n",
       "      <td>-0.207142</td>\n",
       "      <td>0.651479</td>\n",
       "      <td>-0.517200</td>\n",
       "      <td>-0.459303</td>\n",
       "      <td>-0.793434</td>\n",
       "      <td>1.161852</td>\n",
       "      <td>0.370333</td>\n",
       "      <td>0.912210</td>\n",
       "      <td>0.351000</td>\n",
       "      <td>-0.951226</td>\n",
       "      <td>0.594286</td>\n",
       "      <td>0.228669</td>\n",
       "      <td>0.164353</td>\n",
       "      <td>0.095141</td>\n",
       "      <td>-0.619704</td>\n",
       "      <td>0.756922</td>\n",
       "      <td>0.407810</td>\n",
       "    </tr>\n",
       "    <tr>\n",
       "      <th>1</th>\n",
       "      <td>-0.091886</td>\n",
       "      <td>-0.071836</td>\n",
       "      <td>2.179628</td>\n",
       "      <td>0.466465</td>\n",
       "      <td>0.257140</td>\n",
       "      <td>-0.795163</td>\n",
       "      <td>-0.482512</td>\n",
       "      <td>-0.318683</td>\n",
       "      <td>-0.060731</td>\n",
       "      <td>0.600495</td>\n",
       "      <td>0.022893</td>\n",
       "      <td>0.004363</td>\n",
       "      <td>-0.023628</td>\n",
       "      <td>-0.042862</td>\n",
       "      <td>-0.043137</td>\n",
       "      <td>0.057121</td>\n",
       "      <td>0.048291</td>\n",
       "    </tr>\n",
       "    <tr>\n",
       "      <th>2</th>\n",
       "      <td>0.073480</td>\n",
       "      <td>0.651479</td>\n",
       "      <td>-0.517200</td>\n",
       "      <td>-0.313369</td>\n",
       "      <td>-0.627826</td>\n",
       "      <td>1.189351</td>\n",
       "      <td>0.515013</td>\n",
       "      <td>-0.318683</td>\n",
       "      <td>0.631726</td>\n",
       "      <td>0.600495</td>\n",
       "      <td>-0.207616</td>\n",
       "      <td>0.411557</td>\n",
       "      <td>-0.046133</td>\n",
       "      <td>-0.023026</td>\n",
       "      <td>0.391210</td>\n",
       "      <td>0.774837</td>\n",
       "      <td>0.751344</td>\n",
       "    </tr>\n",
       "    <tr>\n",
       "      <th>3</th>\n",
       "      <td>-0.096897</td>\n",
       "      <td>0.651479</td>\n",
       "      <td>-0.517200</td>\n",
       "      <td>-0.687324</td>\n",
       "      <td>-0.521734</td>\n",
       "      <td>0.937276</td>\n",
       "      <td>0.383659</td>\n",
       "      <td>0.296763</td>\n",
       "      <td>0.790804</td>\n",
       "      <td>0.600495</td>\n",
       "      <td>0.193335</td>\n",
       "      <td>0.515193</td>\n",
       "      <td>0.050555</td>\n",
       "      <td>0.066600</td>\n",
       "      <td>0.391210</td>\n",
       "      <td>0.610616</td>\n",
       "      <td>0.741202</td>\n",
       "    </tr>\n",
       "    <tr>\n",
       "      <th>4</th>\n",
       "      <td>0.375148</td>\n",
       "      <td>1.374795</td>\n",
       "      <td>-0.517200</td>\n",
       "      <td>0.199680</td>\n",
       "      <td>-0.045611</td>\n",
       "      <td>1.617877</td>\n",
       "      <td>1.299326</td>\n",
       "      <td>1.527656</td>\n",
       "      <td>1.698485</td>\n",
       "      <td>0.600495</td>\n",
       "      <td>2.100214</td>\n",
       "      <td>2.335068</td>\n",
       "      <td>-0.017111</td>\n",
       "      <td>0.074910</td>\n",
       "      <td>0.825557</td>\n",
       "      <td>2.224249</td>\n",
       "      <td>2.747940</td>\n",
       "    </tr>\n",
       "  </tbody>\n",
       "</table>\n",
       "</div>"
      ],
      "text/plain": [
       "    LotArea  OverallQual  OverallCond  TotalBsmtSF  1stFlrSF  2ndFlrSF  \\\n",
       "0 -0.207142     0.651479    -0.517200    -0.459303 -0.793434  1.161852   \n",
       "1 -0.091886    -0.071836     2.179628     0.466465  0.257140 -0.795163   \n",
       "2  0.073480     0.651479    -0.517200    -0.313369 -0.627826  1.189351   \n",
       "3 -0.096897     0.651479    -0.517200    -0.687324 -0.521734  0.937276   \n",
       "4  0.375148     1.374795    -0.517200     0.199680 -0.045611  1.617877   \n",
       "\n",
       "   GrLivArea  TotRmsAbvGrd  GarageArea  Fireplaces  OverallQual-TotRmsAbvGrd  \\\n",
       "0   0.370333      0.912210    0.351000   -0.951226                  0.594286   \n",
       "1  -0.482512     -0.318683   -0.060731    0.600495                  0.022893   \n",
       "2   0.515013     -0.318683    0.631726    0.600495                 -0.207616   \n",
       "3   0.383659      0.296763    0.790804    0.600495                  0.193335   \n",
       "4   1.299326      1.527656    1.698485    0.600495                  2.100214   \n",
       "\n",
       "   OverallQual-GarageArea  LotArea-1stFlrSF  LotArea-TotalBsmtSF  \\\n",
       "0                0.228669          0.164353             0.095141   \n",
       "1                0.004363         -0.023628            -0.042862   \n",
       "2                0.411557         -0.046133            -0.023026   \n",
       "3                0.515193          0.050555             0.066600   \n",
       "4                2.335068         -0.017111             0.074910   \n",
       "\n",
       "   OverallQual-Fireplaces  OverallQual-2ndFlrSF  2ndFlrSF-GarageArea  \n",
       "0               -0.619704              0.756922             0.407810  \n",
       "1               -0.043137              0.057121             0.048291  \n",
       "2                0.391210              0.774837             0.751344  \n",
       "3                0.391210              0.610616             0.741202  \n",
       "4                0.825557              2.224249             2.747940  "
      ]
     },
     "execution_count": 14,
     "metadata": {},
     "output_type": "execute_result"
    }
   ],
   "source": [
    "X_inter = X_scaled.copy()\n",
    "\n",
    "for pair, _ in top_7_interactions:\n",
    "    f1, f2 = pair.split('-')\n",
    "    X_inter[pair] = X_scaled[f1] * X_scaled[f2]\n",
    "     \n",
    "X_inter.head()"
   ]
  },
  {
   "cell_type": "markdown",
   "metadata": {},
   "source": [
    "## Include polynomials"
   ]
  },
  {
   "cell_type": "markdown",
   "metadata": {},
   "source": [
    "Try polynomials of degrees 2, 3, and 4 for each variable, in a similar way you did for interactions (by looking at your baseline model and seeing how $R^2$ increases). Do understand that when going for a polynomial of 4, the particular column is raised to the power of 2 and 3 as well in other terms. We only want to include \"pure\" polynomials, so make sure no interactions are included. We want the result to return a list that contain tuples of the form:\n",
    "\n",
    "`(var_name, degree, R2)`, so eg. `('OverallQual', 2, 0.781)` "
   ]
  },
  {
   "cell_type": "code",
   "execution_count": 15,
   "metadata": {},
   "outputs": [],
   "source": [
    "# Your code here\n",
    "degrees = [2, 3, 4]\n",
    "\n",
    "poly_list = []\n",
    "\n",
    "for feature in X.columns:\n",
    "    for degree in degrees:\n",
    "        poly = PolynomialFeatures(degree=degree, include_bias=False)\n",
    "        feature_poly = pd.DataFrame(poly.fit_transform(X_scaled[[feature]]), \n",
    "                                    columns=[feature + str(d) for d in range(degree)])\n",
    "        X_all = pd.concat([X_inter.drop(feature, axis=1), feature_poly], axis=1)\n",
    "        \n",
    "        lr = LinearRegression()\n",
    "        lr.fit(X_interact, y)\n",
    "        \n",
    "        score = np.mean(cross_val_score(lr, X_all, y, cv=5))\n",
    "        \n",
    "        # Only append scores that are higher than baseline_score to dictionary\n",
    "        if score > baseline_score:\n",
    "            poly_list.append((feature, degree, score))"
   ]
  },
  {
   "cell_type": "markdown",
   "metadata": {},
   "source": [
    "For each variable, print out the maximum $R^2$ possible when including Polynomials."
   ]
  },
  {
   "cell_type": "code",
   "execution_count": 16,
   "metadata": {},
   "outputs": [
    {
     "data": {
      "text/html": [
       "<div>\n",
       "<style scoped>\n",
       "    .dataframe tbody tr th:only-of-type {\n",
       "        vertical-align: middle;\n",
       "    }\n",
       "\n",
       "    .dataframe tbody tr th {\n",
       "        vertical-align: top;\n",
       "    }\n",
       "\n",
       "    .dataframe thead th {\n",
       "        text-align: right;\n",
       "    }\n",
       "</style>\n",
       "<table border=\"1\" class=\"dataframe\">\n",
       "  <thead>\n",
       "    <tr style=\"text-align: right;\">\n",
       "      <th></th>\n",
       "      <th>Degree</th>\n",
       "      <th>R2</th>\n",
       "    </tr>\n",
       "    <tr>\n",
       "      <th>Feature</th>\n",
       "      <th></th>\n",
       "      <th></th>\n",
       "    </tr>\n",
       "  </thead>\n",
       "  <tbody>\n",
       "    <tr>\n",
       "      <th>1stFlrSF</th>\n",
       "      <td>3</td>\n",
       "      <td>0.836375</td>\n",
       "    </tr>\n",
       "    <tr>\n",
       "      <th>2ndFlrSF</th>\n",
       "      <td>4</td>\n",
       "      <td>0.807223</td>\n",
       "    </tr>\n",
       "    <tr>\n",
       "      <th>Fireplaces</th>\n",
       "      <td>4</td>\n",
       "      <td>0.795625</td>\n",
       "    </tr>\n",
       "    <tr>\n",
       "      <th>GarageArea</th>\n",
       "      <td>4</td>\n",
       "      <td>0.804552</td>\n",
       "    </tr>\n",
       "    <tr>\n",
       "      <th>GrLivArea</th>\n",
       "      <td>4</td>\n",
       "      <td>0.803509</td>\n",
       "    </tr>\n",
       "    <tr>\n",
       "      <th>LotArea</th>\n",
       "      <td>4</td>\n",
       "      <td>0.799422</td>\n",
       "    </tr>\n",
       "    <tr>\n",
       "      <th>OverallCond</th>\n",
       "      <td>4</td>\n",
       "      <td>0.795588</td>\n",
       "    </tr>\n",
       "    <tr>\n",
       "      <th>OverallQual</th>\n",
       "      <td>4</td>\n",
       "      <td>0.796538</td>\n",
       "    </tr>\n",
       "    <tr>\n",
       "      <th>TotRmsAbvGrd</th>\n",
       "      <td>4</td>\n",
       "      <td>0.793491</td>\n",
       "    </tr>\n",
       "    <tr>\n",
       "      <th>TotalBsmtSF</th>\n",
       "      <td>2</td>\n",
       "      <td>0.798697</td>\n",
       "    </tr>\n",
       "  </tbody>\n",
       "</table>\n",
       "</div>"
      ],
      "text/plain": [
       "              Degree        R2\n",
       "Feature                       \n",
       "1stFlrSF           3  0.836375\n",
       "2ndFlrSF           4  0.807223\n",
       "Fireplaces         4  0.795625\n",
       "GarageArea         4  0.804552\n",
       "GrLivArea          4  0.803509\n",
       "LotArea            4  0.799422\n",
       "OverallCond        4  0.795588\n",
       "OverallQual        4  0.796538\n",
       "TotRmsAbvGrd       4  0.793491\n",
       "TotalBsmtSF        2  0.798697"
      ]
     },
     "execution_count": 16,
     "metadata": {},
     "output_type": "execute_result"
    }
   ],
   "source": [
    "poly_df = pd.DataFrame(poly_list, columns=['Feature', 'Degree', 'R2'])\n",
    "sorted_poly = poly_df.groupby('Feature').max('R2')\n",
    "sorted_poly"
   ]
  },
  {
   "cell_type": "markdown",
   "metadata": {},
   "source": [
    "Which two variables seem to benefit most from adding polynomial terms?"
   ]
  },
  {
   "cell_type": "markdown",
   "metadata": {},
   "source": [
    "The two variables that seem to benefit the most from adding polynomial terms are `1stFlrSF` and `2ndFlrSF`."
   ]
  },
  {
   "cell_type": "code",
   "execution_count": 17,
   "metadata": {},
   "outputs": [],
   "source": [
    "top_2_poly = sorted_poly[:2]"
   ]
  },
  {
   "cell_type": "markdown",
   "metadata": {},
   "source": [
    "Add Polynomials for the two features that seem to benefit the most, as in have the best $R^2$ compared to the baseline model. For each of the two features, raise to the Polynomial that generates the best result. Make sure to start from the data set `df_inter` so the final data set has both interactions and polynomials in the model."
   ]
  },
  {
   "cell_type": "code",
   "execution_count": 18,
   "metadata": {},
   "outputs": [],
   "source": [
    "# Your code here\n",
    "for f in top_2_poly.index:\n",
    "    degree = int(top_2_poly.loc[f].Degree)\n",
    "    X_inter[f'{f}_{str(degree)}'] = (X_inter[f])**degree"
   ]
  },
  {
   "cell_type": "markdown",
   "metadata": {},
   "source": [
    "Check out your final data set and make sure that your interaction terms as well as your polynomial terms are included."
   ]
  },
  {
   "cell_type": "code",
   "execution_count": 19,
   "metadata": {},
   "outputs": [
    {
     "data": {
      "text/html": [
       "<div>\n",
       "<style scoped>\n",
       "    .dataframe tbody tr th:only-of-type {\n",
       "        vertical-align: middle;\n",
       "    }\n",
       "\n",
       "    .dataframe tbody tr th {\n",
       "        vertical-align: top;\n",
       "    }\n",
       "\n",
       "    .dataframe thead th {\n",
       "        text-align: right;\n",
       "    }\n",
       "</style>\n",
       "<table border=\"1\" class=\"dataframe\">\n",
       "  <thead>\n",
       "    <tr style=\"text-align: right;\">\n",
       "      <th></th>\n",
       "      <th>LotArea</th>\n",
       "      <th>OverallQual</th>\n",
       "      <th>OverallCond</th>\n",
       "      <th>TotalBsmtSF</th>\n",
       "      <th>1stFlrSF</th>\n",
       "      <th>2ndFlrSF</th>\n",
       "      <th>GrLivArea</th>\n",
       "      <th>TotRmsAbvGrd</th>\n",
       "      <th>GarageArea</th>\n",
       "      <th>Fireplaces</th>\n",
       "      <th>OverallQual-TotRmsAbvGrd</th>\n",
       "      <th>OverallQual-GarageArea</th>\n",
       "      <th>LotArea-1stFlrSF</th>\n",
       "      <th>LotArea-TotalBsmtSF</th>\n",
       "      <th>OverallQual-Fireplaces</th>\n",
       "      <th>OverallQual-2ndFlrSF</th>\n",
       "      <th>2ndFlrSF-GarageArea</th>\n",
       "      <th>1stFlrSF_3</th>\n",
       "      <th>2ndFlrSF_4</th>\n",
       "    </tr>\n",
       "  </thead>\n",
       "  <tbody>\n",
       "    <tr>\n",
       "      <th>0</th>\n",
       "      <td>-0.207142</td>\n",
       "      <td>0.651479</td>\n",
       "      <td>-0.517200</td>\n",
       "      <td>-0.459303</td>\n",
       "      <td>-0.793434</td>\n",
       "      <td>1.161852</td>\n",
       "      <td>0.370333</td>\n",
       "      <td>0.912210</td>\n",
       "      <td>0.351000</td>\n",
       "      <td>-0.951226</td>\n",
       "      <td>0.594286</td>\n",
       "      <td>0.228669</td>\n",
       "      <td>0.164353</td>\n",
       "      <td>0.095141</td>\n",
       "      <td>-0.619704</td>\n",
       "      <td>0.756922</td>\n",
       "      <td>0.407810</td>\n",
       "      <td>-0.499496</td>\n",
       "      <td>1.822228</td>\n",
       "    </tr>\n",
       "    <tr>\n",
       "      <th>1</th>\n",
       "      <td>-0.091886</td>\n",
       "      <td>-0.071836</td>\n",
       "      <td>2.179628</td>\n",
       "      <td>0.466465</td>\n",
       "      <td>0.257140</td>\n",
       "      <td>-0.795163</td>\n",
       "      <td>-0.482512</td>\n",
       "      <td>-0.318683</td>\n",
       "      <td>-0.060731</td>\n",
       "      <td>0.600495</td>\n",
       "      <td>0.022893</td>\n",
       "      <td>0.004363</td>\n",
       "      <td>-0.023628</td>\n",
       "      <td>-0.042862</td>\n",
       "      <td>-0.043137</td>\n",
       "      <td>0.057121</td>\n",
       "      <td>0.048291</td>\n",
       "      <td>0.017002</td>\n",
       "      <td>0.399784</td>\n",
       "    </tr>\n",
       "    <tr>\n",
       "      <th>2</th>\n",
       "      <td>0.073480</td>\n",
       "      <td>0.651479</td>\n",
       "      <td>-0.517200</td>\n",
       "      <td>-0.313369</td>\n",
       "      <td>-0.627826</td>\n",
       "      <td>1.189351</td>\n",
       "      <td>0.515013</td>\n",
       "      <td>-0.318683</td>\n",
       "      <td>0.631726</td>\n",
       "      <td>0.600495</td>\n",
       "      <td>-0.207616</td>\n",
       "      <td>0.411557</td>\n",
       "      <td>-0.046133</td>\n",
       "      <td>-0.023026</td>\n",
       "      <td>0.391210</td>\n",
       "      <td>0.774837</td>\n",
       "      <td>0.751344</td>\n",
       "      <td>-0.247467</td>\n",
       "      <td>2.000966</td>\n",
       "    </tr>\n",
       "    <tr>\n",
       "      <th>3</th>\n",
       "      <td>-0.096897</td>\n",
       "      <td>0.651479</td>\n",
       "      <td>-0.517200</td>\n",
       "      <td>-0.687324</td>\n",
       "      <td>-0.521734</td>\n",
       "      <td>0.937276</td>\n",
       "      <td>0.383659</td>\n",
       "      <td>0.296763</td>\n",
       "      <td>0.790804</td>\n",
       "      <td>0.600495</td>\n",
       "      <td>0.193335</td>\n",
       "      <td>0.515193</td>\n",
       "      <td>0.050555</td>\n",
       "      <td>0.066600</td>\n",
       "      <td>0.391210</td>\n",
       "      <td>0.610616</td>\n",
       "      <td>0.741202</td>\n",
       "      <td>-0.142019</td>\n",
       "      <td>0.771739</td>\n",
       "    </tr>\n",
       "    <tr>\n",
       "      <th>4</th>\n",
       "      <td>0.375148</td>\n",
       "      <td>1.374795</td>\n",
       "      <td>-0.517200</td>\n",
       "      <td>0.199680</td>\n",
       "      <td>-0.045611</td>\n",
       "      <td>1.617877</td>\n",
       "      <td>1.299326</td>\n",
       "      <td>1.527656</td>\n",
       "      <td>1.698485</td>\n",
       "      <td>0.600495</td>\n",
       "      <td>2.100214</td>\n",
       "      <td>2.335068</td>\n",
       "      <td>-0.017111</td>\n",
       "      <td>0.074910</td>\n",
       "      <td>0.825557</td>\n",
       "      <td>2.224249</td>\n",
       "      <td>2.747940</td>\n",
       "      <td>-0.000095</td>\n",
       "      <td>6.851447</td>\n",
       "    </tr>\n",
       "  </tbody>\n",
       "</table>\n",
       "</div>"
      ],
      "text/plain": [
       "    LotArea  OverallQual  OverallCond  TotalBsmtSF  1stFlrSF  2ndFlrSF  \\\n",
       "0 -0.207142     0.651479    -0.517200    -0.459303 -0.793434  1.161852   \n",
       "1 -0.091886    -0.071836     2.179628     0.466465  0.257140 -0.795163   \n",
       "2  0.073480     0.651479    -0.517200    -0.313369 -0.627826  1.189351   \n",
       "3 -0.096897     0.651479    -0.517200    -0.687324 -0.521734  0.937276   \n",
       "4  0.375148     1.374795    -0.517200     0.199680 -0.045611  1.617877   \n",
       "\n",
       "   GrLivArea  TotRmsAbvGrd  GarageArea  Fireplaces  OverallQual-TotRmsAbvGrd  \\\n",
       "0   0.370333      0.912210    0.351000   -0.951226                  0.594286   \n",
       "1  -0.482512     -0.318683   -0.060731    0.600495                  0.022893   \n",
       "2   0.515013     -0.318683    0.631726    0.600495                 -0.207616   \n",
       "3   0.383659      0.296763    0.790804    0.600495                  0.193335   \n",
       "4   1.299326      1.527656    1.698485    0.600495                  2.100214   \n",
       "\n",
       "   OverallQual-GarageArea  LotArea-1stFlrSF  LotArea-TotalBsmtSF  \\\n",
       "0                0.228669          0.164353             0.095141   \n",
       "1                0.004363         -0.023628            -0.042862   \n",
       "2                0.411557         -0.046133            -0.023026   \n",
       "3                0.515193          0.050555             0.066600   \n",
       "4                2.335068         -0.017111             0.074910   \n",
       "\n",
       "   OverallQual-Fireplaces  OverallQual-2ndFlrSF  2ndFlrSF-GarageArea  \\\n",
       "0               -0.619704              0.756922             0.407810   \n",
       "1               -0.043137              0.057121             0.048291   \n",
       "2                0.391210              0.774837             0.751344   \n",
       "3                0.391210              0.610616             0.741202   \n",
       "4                0.825557              2.224249             2.747940   \n",
       "\n",
       "   1stFlrSF_3  2ndFlrSF_4  \n",
       "0   -0.499496    1.822228  \n",
       "1    0.017002    0.399784  \n",
       "2   -0.247467    2.000966  \n",
       "3   -0.142019    0.771739  \n",
       "4   -0.000095    6.851447  "
      ]
     },
     "execution_count": 19,
     "metadata": {},
     "output_type": "execute_result"
    }
   ],
   "source": [
    "# Your code here\n",
    "X_inter.head()"
   ]
  },
  {
   "cell_type": "markdown",
   "metadata": {},
   "source": [
    "## Full model R-squared"
   ]
  },
  {
   "cell_type": "markdown",
   "metadata": {},
   "source": [
    "Check out the $R^2$ of the full model."
   ]
  },
  {
   "cell_type": "code",
   "execution_count": 20,
   "metadata": {},
   "outputs": [
    {
     "data": {
      "text/plain": [
       "0.8454533804442109"
      ]
     },
     "execution_count": 20,
     "metadata": {},
     "output_type": "execute_result"
    }
   ],
   "source": [
    "# Your code here\n",
    "linreg_full = LinearRegression()\n",
    "linreg_full.fit(X_inter, y)\n",
    "np.mean(cross_val_score(linreg_full, X_inter, y, cv=5))"
   ]
  },
  {
   "cell_type": "markdown",
   "metadata": {},
   "source": [
    "## Find the best Lasso regularization parameter"
   ]
  },
  {
   "cell_type": "markdown",
   "metadata": {},
   "source": [
    "You learned that when using Lasso regularization, your coefficients shrink to 0 when using a higher regularization parameter. Now the question is which value we should choose for the regularization parameter. \n",
    "\n",
    "This is where the AIC and BIC come in handy! We'll use both criteria in what follows and perform cross-validation to select an optimal value of the regularization parameter $alpha$ of the Lasso estimator.\n",
    "\n",
    "Read the page here: https://scikit-learn.org/stable/auto_examples/linear_model/plot_lasso_model_selection.html and create a similar plot as the first one listed on the page. "
   ]
  },
  {
   "cell_type": "code",
   "execution_count": 21,
   "metadata": {},
   "outputs": [],
   "source": [
    "from sklearn.linear_model import Lasso, LassoCV, LassoLarsCV, LassoLarsIC"
   ]
  },
  {
   "cell_type": "code",
   "execution_count": 29,
   "metadata": {},
   "outputs": [
    {
     "data": {
      "image/png": "[encoded data removed]",
      "text/plain": [
       "<Figure size 864x504 with 1 Axes>"
      ]
     },
     "metadata": {
      "needs_background": "light"
     },
     "output_type": "display_data"
    }
   ],
   "source": [
    "# Your code here \n",
    "model_bic = LassoLarsIC(criterion='bic')\n",
    "model_bic.fit(X_inter, y)\n",
    "alpha_bic = model_bic.alpha_\n",
    "\n",
    "model_aic = LassoLarsIC(criterion='aic')\n",
    "model_aic.fit(X_inter, y)\n",
    "alpha_aic = model_aic.alpha_\n",
    "\n",
    "def plot_ic_criterion(model, name, color):\n",
    "    criterion_ = model.criterion_\n",
    "    plt.plot(-np.log(model.alphas_), criterion_, color=color, linestyle='--',\n",
    "             linewidth=2, label=f'{name} criterion')\n",
    "    plt.axvline(-np.log(model.alpha_), color=color, linewidth=2,\n",
    "                label=fr\"{name}'s most optimal $\\alpha$\")\n",
    "    plt.xlabel(r'-log($\\alpha$)')\n",
    "    plt.ylabel('criterion')\n",
    "    \n",
    "plt.figure(figsize=(12,7))\n",
    "plot_ic_criterion(model_bic, 'BIC', 'red')\n",
    "plot_ic_criterion(model_aic, 'AIC', 'blue')\n",
    "plt.legend()\n",
    "plt.title('Information-criterion for model selection');"
   ]
  },
  {
   "cell_type": "markdown",
   "metadata": {},
   "source": [
    "## Analyze the final result\n",
    "\n",
    "Finally, use the best value for the regularization parameter according to AIC and BIC, and compare $R^2$ and RMSE using train-test split. Compare with the baseline model.\n",
    "\n",
    "Remember, you can find the Root Mean Squared Error (RMSE) by setting `squared=False` inside the function (see [the documentation](https://scikit-learn.org/stable/modules/generated/sklearn.metrics.mean_squared_error.html)), and the RMSE returns values that are in the same units as our target - so we can see how far off our predicted sale prices are in dollars."
   ]
  },
  {
   "cell_type": "code",
   "execution_count": 23,
   "metadata": {},
   "outputs": [],
   "source": [
    "from sklearn.metrics import mean_squared_error, mean_squared_log_error\n",
    "from sklearn.model_selection import train_test_split"
   ]
  },
  {
   "cell_type": "code",
   "execution_count": 30,
   "metadata": {},
   "outputs": [
    {
     "name": "stdout",
     "output_type": "stream",
     "text": [
      "-------------------------Baseline-------------------------\n",
      "\n",
      "\t\tR-Squared\t\tRMSE\n",
      "Training\t0.8577413981504157\t30195.827524205863\n",
      "Testing\t\t0.848090398008886\t30185.909700126842\n"
     ]
    }
   ],
   "source": [
    "# Split X_scaled and y into training and test sets\n",
    "# Set random_state to 1\n",
    "X_train, X_test, y_train, y_test = train_test_split(X_inter, y)\n",
    "\n",
    "# Code for baseline model\n",
    "linreg_all = LinearRegression()\n",
    "linreg_all.fit(X_train, y_train)\n",
    "\n",
    "# Generate predictions\n",
    "y_pred_train = linreg_all.predict(X_train)\n",
    "y_pred_test = linreg_all.predict(X_test)\n",
    "\n",
    "# Print R-Squared and RMSE\n",
    "print(\"-------------------------Baseline-------------------------\")\n",
    "print()\n",
    "print(\"\\t\\tR-Squared\\t\\tRMSE\")\n",
    "print(f\"Training\\t{linreg_all.score(X_train, y_train)}\\t{mean_squared_error(y_train, y_pred_train, squared=False)}\")\n",
    "print(f\"Testing\\t\\t{linreg_all.score(X_test, y_test)}\\t{mean_squared_error(y_test, y_pred_test, squared=False)}\")"
   ]
  },
  {
   "cell_type": "code",
   "execution_count": 25,
   "metadata": {},
   "outputs": [],
   "source": [
    "# Split df_inter and y into training and test sets\n",
    "# Set random_state to 1\n",
    "X_train, X_test, y_train, y_test = train_test_split(X_inter, y, random_state=1)"
   ]
  },
  {
   "cell_type": "code",
   "execution_count": 31,
   "metadata": {},
   "outputs": [
    {
     "name": "stdout",
     "output_type": "stream",
     "text": [
      "-------------------------Lasso BIC-------------------------\n",
      "\n",
      "\t\tR-Squared\t\tRMSE\n",
      "Training\t0.8577410004158728\t30195.869735766748\n",
      "Testing\t\t0.8480577585882975\t30189.152410503222\n"
     ]
    }
   ],
   "source": [
    "# Code for lasso with alpha from AIC\n",
    "lasso = Lasso(alpha=alpha_aic)\n",
    "lasso.fit(X_train, y_train)\n",
    "\n",
    "# Generate predictions\n",
    "y_pred_train_lasso = lasso.predict(X_train)\n",
    "y_pred_test_lasso = lasso.predict(X_test)\n",
    "\n",
    "# Print R-Squared and RMSE\n",
    "# Print R-Squared and RMSE\n",
    "print(\"-------------------------Lasso BIC-------------------------\")\n",
    "print()\n",
    "print(\"\\t\\tR-Squared\\t\\tRMSE\")\n",
    "print(f\"Training\\t{lasso.score(X_train, y_train)}\\t{mean_squared_error(y_train, y_pred_train_lasso, squared=False)}\")\n",
    "print(f\"Testing\\t\\t{lasso.score(X_test, y_test)}\\t{mean_squared_error(y_test, y_pred_test_lasso, squared=False)}\")"
   ]
  },
  {
   "cell_type": "code",
   "execution_count": 32,
   "metadata": {},
   "outputs": [
    {
     "name": "stdout",
     "output_type": "stream",
     "text": [
      "-------------------------Lasso BIC-------------------------\n",
      "\n",
      "\t\tR-Squared\t\tRMSE\n",
      "Training\t0.85764531618213\t30206.022987915585\n",
      "Testing\t\t0.8475006386515174\t30244.44838802167\n"
     ]
    }
   ],
   "source": [
    "# Code for lasso with alpha from BIC\n",
    "lasso = Lasso(alpha=alpha_bic)\n",
    "lasso.fit(X_train, y_train)\n",
    "\n",
    "# Generate predictions\n",
    "y_pred_train_lasso = lasso.predict(X_train)\n",
    "y_pred_test_lasso = lasso.predict(X_test)\n",
    "\n",
    "# Print R-Squared and RMSE\n",
    "# Print R-Squared and RMSE\n",
    "print(\"-------------------------Lasso BIC-------------------------\")\n",
    "print()\n",
    "print(\"\\t\\tR-Squared\\t\\tRMSE\")\n",
    "print(f\"Training\\t{lasso.score(X_train, y_train)}\\t{mean_squared_error(y_train, y_pred_train_lasso, squared=False)}\")\n",
    "print(f\"Testing\\t\\t{lasso.score(X_test, y_test)}\\t{mean_squared_error(y_test, y_pred_test_lasso, squared=False)}\")"
   ]
  },
  {
   "cell_type": "markdown",
   "metadata": {},
   "source": [
    "## Level up (Optional)"
   ]
  },
  {
   "cell_type": "markdown",
   "metadata": {},
   "source": [
    "### Create a Lasso path\n",
    "\n",
    "From this section, you know that when using Lasso, more parameters shrink to zero as your regularization parameter goes up. In Scikit-learn there is a function `lasso_path()` which visualizes the shrinkage of the coefficients while $alpha$ changes. Try this out yourself!\n",
    "\n",
    "https://scikit-learn.org/stable/auto_examples/linear_model/plot_lasso_coordinate_descent_path.html#sphx-glr-auto-examples-linear-model-plot-lasso-coordinate-descent-path-py"
   ]
  },
  {
   "cell_type": "markdown",
   "metadata": {},
   "source": [
    "### AIC and BIC for subset selection\n",
    "This notebook shows how you can use AIC and BIC purely for feature selection. Try this code out on our Ames housing data!"
   ]
  },
  {
   "cell_type": "markdown",
   "metadata": {},
   "source": [
    "https://xavierbourretsicotte.github.io/subset_selection.html"
   ]
  },
  {
   "cell_type": "markdown",
   "metadata": {},
   "source": [
    "## Summary"
   ]
  },
  {
   "cell_type": "markdown",
   "metadata": {},
   "source": [
    "Congratulations! You now know how to create better linear models and how to use AIC and BIC for both feature selection and to optimize your regularization parameter when performing Ridge and Lasso. "
   ]
  }
 ],
 "metadata": {
  "kernelspec": {
   "display_name": "Python 3",
   "language": "python",
   "name": "python3"
  },
  "language_info": {
   "codemirror_mode": {
    "name": "ipython",
    "version": 3
   },
   "file_extension": ".py",
   "mimetype": "text/x-python",
   "name": "python",
   "nbconvert_exporter": "python",
   "pygments_lexer": "ipython3",
   "version": "3.8.5"
  }
 },
 "nbformat": 4,
 "nbformat_minor": 2
}
